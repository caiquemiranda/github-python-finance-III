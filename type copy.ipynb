{
 "cells": [
  {
   "attachments": {},
   "cell_type": "markdown",
   "metadata": {},
   "source": [
    "### FINANCE"
   ]
  },
  {
   "attachments": {},
   "cell_type": "markdown",
   "metadata": {},
   "source": [
    "#### 1 – INSTALLING MODULES"
   ]
  },
  {
   "attachments": {},
   "cell_type": "markdown",
   "metadata": {},
   "source": [
    "Para este livro vamos usar algumas bibliotecas que já conhecemos do volumes anteriores, mas também alguns novos. Vamos precisar da seguinte lista:\n",
    "\n",
    "· Pandas\n",
    "· Pandas-Datareader\n",
    "· Matplotlib\n",
    "· MPL-Finanças\n",
    "· NumPy\n",
    "· Scikit-Learn\n",
    "· Beautifulsoup4\n",
    "\n",
    "Agora vamos dar uma olhada nas bibliotecas individuais. Vamos recapitular aqueles que já conhecem e também explicar para que vamos usar os novos."
   ]
  },
  {
   "attachments": {},
   "cell_type": "markdown",
   "metadata": {},
   "source": [
    "##### PANDAS"
   ]
  },
  {
   "attachments": {},
   "cell_type": "markdown",
   "metadata": {},
   "source": [
    "Pandas é uma biblioteca que já usamos nos últimos dois volumes. Isto nos oferece a poderosa estrutura de dados chamada data frame. Com os Pandas podemos gerenciar nossos dados de maneira semelhante às tabelas SQL ou planilhas do Excel."
   ]
  },
  {
   "attachments": {},
   "cell_type": "markdown",
   "metadata": {},
   "source": [
    "##### PANDAS-DATAREADER"
   ]
  },
  {
   "attachments": {},
   "cell_type": "markdown",
   "metadata": {},
   "source": [
    "O Pandas-Datareader é uma biblioteca adicional que vamos usar, em para carregar dados financeiros da internet. Ele carrega dados de APIs em quadros de dados."
   ]
  },
  {
   "attachments": {},
   "cell_type": "markdown",
   "metadata": {},
   "source": [
    "##### MATPLOTLIB"
   ]
  },
  {
   "attachments": {},
   "cell_type": "markdown",
   "metadata": {},
   "source": [
    "Matplotlib é uma biblioteca que usamos para visualizar seus dados e nossos modelos. Nós pode escolher entre uma variedade de diferentes tipos e estilos de plotagem."
   ]
  },
  {
   "attachments": {},
   "cell_type": "markdown",
   "metadata": {},
   "source": [
    "##### MPL-FINANCE"
   ]
  },
  {
   "attachments": {},
   "cell_type": "markdown",
   "metadata": {},
   "source": [
    "MPL-Finance é uma biblioteca que trabalha em conjunto com o Matplotlib e nos permite usar visualização especial para finanças. Vamos usá-lo para plotar castiçal gráficos."
   ]
  },
  {
   "attachments": {},
   "cell_type": "markdown",
   "metadata": {},
   "source": [
    "##### NUMPY"
   ]
  },
  {
   "attachments": {},
   "cell_type": "markdown",
   "metadata": {},
   "source": [
    "NumPy é o nosso módulo fundamental para álgebra linear e lidar com arrays. É necessário para Matplotlib, Pandas e Scikit-Learn."
   ]
  },
  {
   "attachments": {},
   "cell_type": "markdown",
   "metadata": {},
   "source": [
    "##### SCIKIT-LEARN"
   ]
  },
  {
   "attachments": {},
   "cell_type": "markdown",
   "metadata": {},
   "source": [
    "Scikit-Learn é o módulo que usamos no último volume do The Série da Bíblia Python. Oferece-nos muitos clássicos e tradicionais modelos de aprendizado de máquina. Vamos aplicar esses modelos ao nosso dados financeiros para fazer previsões."
   ]
  },
  {
   "attachments": {},
   "cell_type": "markdown",
   "metadata": {},
   "source": [
    "##### BEAUTIFULSOUP4"
   ]
  },
  {
   "attachments": {},
   "cell_type": "markdown",
   "metadata": {},
   "source": [
    "Por último, mas não menos importante, estamos usando um novo módulo com o nome beautifulsoup4. Admito que este é um nome bastante estúpido e enganoso, mas esta biblioteca é um poderosa biblioteca de raspagem da web. Vamos usá-lo para extrair dados financeiros de arquivos HTML."
   ]
  },
  {
   "attachments": {},
   "cell_type": "markdown",
   "metadata": {},
   "source": [
    "##### INSTALLATION"
   ]
  },
  {
   "attachments": {},
   "cell_type": "markdown",
   "metadata": {},
   "source": [
    "Estes são os comandos de instalação (com pip) para as bibliotecas necessárias:"
   ]
  },
  {
   "cell_type": "code",
   "execution_count": 1,
   "metadata": {},
   "outputs": [],
   "source": [
    "#!pip install pandas\n",
    "#!pip install matplotlib\n",
    "#!pip install mpl-finance\n",
    "#!pip install scikit-learn\n",
    "#!pip install beautifulsoup4"
   ]
  },
  {
   "attachments": {},
   "cell_type": "markdown",
   "metadata": {},
   "source": [
    "#### 2 – LOADING FINANCIAL DATA"
   ]
  },
  {
   "attachments": {},
   "cell_type": "markdown",
   "metadata": {},
   "source": [
    "Agora que instalamos as bibliotecas necessárias, vamos começar por dando uma olhada em como carregar dados financeiros em nosso script. Para isso, iremos precisa das seguintes importações:"
   ]
  },
  {
   "cell_type": "code",
   "execution_count": 2,
   "metadata": {},
   "outputs": [],
   "source": [
    "import datetime as dt"
   ]
  },
  {
   "attachments": {},
   "cell_type": "markdown",
   "metadata": {},
   "source": [
    "Estamos importando o módulo de dados da biblioteca pandas_datareader com o pseudônimo web. Este módulo será usado para obter nossos dados do Yahoo Finance API. Além disso, estamos importando o módulo datetime para que possamos especificar a hora quadros. Para fazer isso, usamos a função datetime."
   ]
  },
  {
   "cell_type": "code",
   "execution_count": 3,
   "metadata": {},
   "outputs": [],
   "source": [
    "start = dt.datetime(2020,1,1)\n",
    "#end = dt.datetime(2019,1,1)"
   ]
  },
  {
   "attachments": {},
   "cell_type": "markdown",
   "metadata": {},
   "source": [
    "Aqui definimos uma data de início e uma data de término. Este é o nosso prazo. Quando carregamos os dados, queremos todas as entradas de 1º de janeiro de 2017 até até 1º de janeiro de 2019. Alternativamente, também podemos usar o função datetime.now, para especificar o presente como a data final."
   ]
  },
  {
   "cell_type": "code",
   "execution_count": 4,
   "metadata": {},
   "outputs": [],
   "source": [
    "end = dt.datetime.now()"
   ]
  },
  {
   "attachments": {},
   "cell_type": "markdown",
   "metadata": {},
   "source": [
    "A próxima etapa é definir um quadro de dados e carregar os dados financeiros nele. Para isso, precisamos saber quatro coisas. Primeiro: o símbolo do ticker da ação queremos analisar. Segundo: O nome da API que queremos receber os dados de. E por último: a data de início e término."
   ]
  },
  {
   "cell_type": "code",
   "execution_count": 13,
   "metadata": {},
   "outputs": [
    {
     "name": "stdout",
     "output_type": "stream",
     "text": [
      "[*********************100%***********************]  1 of 1 completed\n"
     ]
    }
   ],
   "source": [
    "import yfinance as yf\n",
    "\n",
    "# Define o ticker do ativo que você deseja obter dados\n",
    "ticker = \"AAPL\"\n",
    "\n",
    "# Obtém os dados do Yahoo Finance\n",
    "df = yf.download(ticker, \n",
    "                 start=\"2008-06-01\",\n",
    "                 end=\"2023-06-30\")"
   ]
  },
  {
   "cell_type": "code",
   "execution_count": 14,
   "metadata": {},
   "outputs": [
    {
     "data": {
      "text/plain": [
       "<AxesSubplot:xlabel='Date'>"
      ]
     },
     "execution_count": 14,
     "metadata": {},
     "output_type": "execute_result"
    },
    {
     "data": {
      "image/png": "[encoded data removed]",
      "text/plain": [
       "<Figure size 432x288 with 1 Axes>"
      ]
     },
     "metadata": {
      "needs_background": "light"
     },
     "output_type": "display_data"
    }
   ],
   "source": [
    "df.Open.plot()"
   ]
  },
  {
   "cell_type": "code",
   "execution_count": 15,
   "metadata": {},
   "outputs": [
    {
     "name": "stdout",
     "output_type": "stream",
     "text": [
      "                  Open        High         Low       Close   Adj Close  \\\n",
      "Date                                                                     \n",
      "2008-06-02    6.735714    6.773214    6.590357    6.646429    5.649084   \n",
      "2008-06-03    6.673571    6.721429    6.512143    6.620357    5.626924   \n",
      "2008-06-04    6.572143    6.681786    6.543929    6.613929    5.621461   \n",
      "2008-06-05    6.655000    6.780000    6.632143    6.765357    5.750167   \n",
      "2008-06-06    6.714286    6.783929    6.626786    6.630000    5.635121   \n",
      "...                ...         ...         ...         ...         ...   \n",
      "2023-06-23  185.550003  187.559998  185.009995  186.679993  186.679993   \n",
      "2023-06-26  186.830002  188.050003  185.229996  185.270004  185.270004   \n",
      "2023-06-27  185.889999  188.389999  185.669998  188.059998  188.059998   \n",
      "2023-06-28  187.929993  189.899994  187.600006  189.250000  189.250000   \n",
      "2023-06-29  189.080002  190.070007  188.940002  189.589996  189.589996   \n",
      "\n",
      "               Volume  \n",
      "Date                   \n",
      "2008-06-02  679840000  \n",
      "2008-06-03  750520400  \n",
      "2008-06-04  726983600  \n",
      "2008-06-05  755445600  \n",
      "2008-06-06  966422800  \n",
      "...               ...  \n",
      "2023-06-23   53079300  \n",
      "2023-06-26   48088700  \n",
      "2023-06-27   50730800  \n",
      "2023-06-28   51216800  \n",
      "2023-06-29   46347300  \n",
      "\n",
      "[3796 rows x 6 columns]\n"
     ]
    }
   ],
   "source": [
    "print(df)"
   ]
  },
  {
   "attachments": {},
   "cell_type": "markdown",
   "metadata": {},
   "source": [
    "Estamos criando uma instância do DataReader e passamos os quatro parâmetros.\n",
    "Neste caso, estamos usando a API do Yahoo Finance, para obter as informações financeiras\n",
    "dados da empresa Apple (AAPL) desde a data inicial até a data final."
   ]
  },
  {
   "attachments": {},
   "cell_type": "markdown",
   "metadata": {},
   "source": [
    "Para visualizar agora nossos dados baixados, podemos imprimir algumas entradas."
   ]
  },
  {
   "attachments": {},
   "cell_type": "markdown",
   "metadata": {},
   "source": [
    "Aviso: Às vezes, a API do Yahoo Finance não responde e você recebe uma exceção. Nesse caso, seu código não é o problema e você pode resolver o problema problema esperando um pouco e tentando novamente."
   ]
  },
  {
   "attachments": {},
   "cell_type": "markdown",
   "metadata": {},
   "source": [
    "Como você pode ver, agora temos um quadro de dados com todas as entradas desde a data de início para data final. Observe que temos várias colunas aqui e não apenas o preço de fechamento da ação do respectivo dia. Vamos dar uma olhada rápida no colunas individuais e seu significado."
   ]
  },
  {
   "attachments": {},
   "cell_type": "markdown",
   "metadata": {},
   "source": [
    "Open: That’s the share price the stock had when the markets opened that\n",
    "day.\n",
    "Close: That’s the share price the stock had when the markets closed that day.\n",
    "High: That’s the highest share price that the stock had that day.\n",
    "Low: That’s the lowest share price that the stock had that day.\n",
    "Volume: Amount of shares that changed hands that day.\n",
    "Adj. Close: The adjusted close value that takes things like stock splits into\n",
    "consideration.\n",
    "\n",
    "Abertura: esse é o preço da ação que a ação tinha quando os mercados abriram.\n",
    "dia.\n",
    "Fechamento: esse é o preço da ação que a ação tinha quando os mercados fecharam naquele dia.\n",
    "Alta: Esse é o preço mais alto que a ação teve naquele dia.\n",
    "Baixo: Esse é o preço mais baixo que a ação teve naquele dia.\n",
    "Volume: Quantidade de ações que mudaram de mãos naquele dia.\n",
    "Adj. Fechamento: O valor de fechamento ajustado que leva coisas como divisões de ações em\n",
    "consideração."
   ]
  },
  {
   "attachments": {},
   "cell_type": "markdown",
   "metadata": {},
   "source": [
    "##### READING INDIVIDUAL VALUES"
   ]
  },
  {
   "attachments": {},
   "cell_type": "markdown",
   "metadata": {},
   "source": [
    "Como nossos dados são armazenados em um quadro de dados do Pandas, podemos usar a indexação que já conhece, para obter valores individuais. Por exemplo, só poderíamos imprimir o valores de fechamento."
   ]
  },
  {
   "cell_type": "code",
   "execution_count": 8,
   "metadata": {},
   "outputs": [
    {
     "name": "stdout",
     "output_type": "stream",
     "text": [
      "Date\n",
      "2000-06-01      0.795759\n",
      "2000-06-02      0.826451\n",
      "2000-06-05      0.815290\n",
      "2000-06-06      0.829241\n",
      "2000-06-07      0.862165\n",
      "                 ...    \n",
      "2023-06-23    186.679993\n",
      "2023-06-26    185.270004\n",
      "2023-06-27    188.059998\n",
      "2023-06-28    189.250000\n",
      "2023-06-29    189.589996\n",
      "Name: Close, Length: 5806, dtype: float64\n"
     ]
    }
   ],
   "source": [
    "print(df['Close'])"
   ]
  },
  {
   "attachments": {},
   "cell_type": "markdown",
   "metadata": {},
   "source": [
    "Além disso, podemos ir em frente e imprimir o valor de fechamento de uma data específica que estão interessados. Isso é possível porque a data é nossa coluna de índice."
   ]
  },
  {
   "cell_type": "code",
   "execution_count": 9,
   "metadata": {},
   "outputs": [
    {
     "name": "stdout",
     "output_type": "stream",
     "text": [
      "143.2100067138672\n"
     ]
    }
   ],
   "source": [
    "print(df['Close']['2022-12-14'])"
   ]
  },
  {
   "attachments": {},
   "cell_type": "markdown",
   "metadata": {},
   "source": [
    "Mas também poderíamos usar indexação simples para acessar certas posições."
   ]
  },
  {
   "cell_type": "code",
   "execution_count": 10,
   "metadata": {},
   "outputs": [
    {
     "name": "stdout",
     "output_type": "stream",
     "text": [
      "0.8465399742126465\n"
     ]
    }
   ],
   "source": [
    "print(df['Close'][5])"
   ]
  },
  {
   "attachments": {},
   "cell_type": "markdown",
   "metadata": {},
   "source": [
    "Aqui imprimiríamos o preço de fechamento da quinta entrada."
   ]
  },
  {
   "cell_type": "markdown",
   "metadata": {},
   "source": []
  },
  {
   "cell_type": "markdown",
   "metadata": {},
   "source": []
  },
  {
   "cell_type": "code",
   "execution_count": 11,
   "metadata": {},
   "outputs": [
    {
     "name": "stdout",
     "output_type": "stream",
     "text": [
      "Author: Caique Miranda\n",
      "\n",
      "Github username: caiquemiranda\n",
      "\n",
      "yfinance: 0.2.12\n",
      "\n"
     ]
    }
   ],
   "source": [
    "%reload_ext watermark\n",
    "%watermark -a \"Caique Miranda\" -gu \"caiquemiranda\" -iv"
   ]
  },
  {
   "attachments": {},
   "cell_type": "markdown",
   "metadata": {},
   "source": [
    "### End."
   ]
  }
 ],
 "metadata": {
  "kernelspec": {
   "display_name": "Python 3",
   "language": "python",
   "name": "python3"
  },
  "language_info": {
   "codemirror_mode": {
    "name": "ipython",
    "version": 3
   },
   "file_extension": ".py",
   "mimetype": "text/x-python",
   "name": "python",
   "nbconvert_exporter": "python",
   "pygments_lexer": "ipython3",
   "version": "3.10.5"
  },
  "orig_nbformat": 4
 },
 "nbformat": 4,
 "nbformat_minor": 2
}
